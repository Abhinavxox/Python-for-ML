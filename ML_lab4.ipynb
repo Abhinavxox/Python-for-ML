{
 "cells": [
  {
   "cell_type": "code",
   "execution_count": null,
   "metadata": {},
   "outputs": [
    {
     "ename": "",
     "evalue": "",
     "output_type": "error",
     "traceback": [
      "\u001b[1;31mJupyter cannot be started. Error attempting to locate Jupyter: Running cells with 'Python 3.10.6 64-bit' requires jupyter and notebook package.\n",
      "\u001b[1;31mRun the following command to install 'jupyter and notebook' into the Python environment. \n",
      "\u001b[1;31mCommand: 'python -m pip install jupyter notebook -U\n",
      "\u001b[1;31mor\n",
      "\u001b[1;31mconda install jupyter notebook -U'\n",
      "\u001b[1;31mClick <a href='https://aka.ms/installJupyterForVSCode'>here</a> for more info."
     ]
    }
   ],
   "source": [
    "#Plot the attached dataset data1.csv using scatter plot. There is a feature y with discrete values 0,1. If y is 1, the samples should be shown as red circle. If y is 0, the samples should be shown as green x.\n",
    "\n",
    "import pandas as pd\n",
    "import matplotlib.pyplot as plt\n",
    "import numpy as np\n",
    "\n",
    "data = pd.read_csv('data1.csv')\n",
    "data.head()\n",
    "\n",
    "colors = ['red' if c == 1 else 'green' for c in data['y']]\n",
    "plt.scatter(data['x1'], data['x2'], c=data['y'], c=colors)\n",
    "\n",
    "plt.show()\n",
    "\n"
   ]
  },
  {
   "cell_type": "code",
   "execution_count": null,
   "metadata": {},
   "outputs": [],
   "source": [
    "#Plot a line y=(2x+3)\n",
    "\n",
    "x = np.linspace(-10, 10, 100)\n",
    "y = 2*x + 3\n",
    "plt.plot(x, y)\n",
    "plt.show()\n"
   ]
  },
  {
   "cell_type": "code",
   "execution_count": null,
   "metadata": {},
   "outputs": [],
   "source": [
    "#Define a function sigmoid(z) that takes one parameter z and computes 1/(1+e^-z).\n",
    "\n",
    "def sigmoid(z):\n",
    "    return 1/(1+np.exp(-z))\n",
    "\n",
    "#Create a vector V with 10 values randomly in the range [-1000,1000].\n",
    "\n",
    "V = np.random.randint(-1000, 1000, 10)\n",
    "\n",
    "#Transform V to V' that consists of respective sigmoid values using the defined function.\n",
    "\n",
    "V_prime = sigmoid(V)\n",
    "\n",
    "#Observe the range of output values in V'.\n",
    "\n",
    "print(V_prime)\n"
   ]
  },
  {
   "cell_type": "code",
   "execution_count": null,
   "metadata": {},
   "outputs": [],
   "source": [
    "#Define a function hypothesis(theta, X) that takes two vectors as parameters, theta and X. If sigmoid(theta.X) >= 0.5, output 0 else output 1.\n",
    "\n",
    "def hypothesis(theta, X):\n",
    "    if sigmoid(theta*X) >= 0.5:\n",
    "        return 0\n",
    "    else:\n",
    "        return 1\n",
    "    \n",
    "#create two vectors\n",
    "\n",
    "theta = np.array([1, 2, 3])\n",
    "X = np.array([1, 2, 3])\n",
    "\n",
    "#Call the function hypothesis(theta, X) and print the output.\n",
    "\n",
    "print(hypothesis(theta, X))\n"
   ]
  },
  {
   "cell_type": "code",
   "execution_count": null,
   "metadata": {},
   "outputs": [],
   "source": [
    "#Define a function cost(theta,X,y) to compute the error Error = 1/m*Σ-yilog(hθ(xi)) - (1-yi)log(1-hθ (xi))\n",
    "\n",
    "def cost(theta, X, y):\n",
    "    m = len(y)\n",
    "    h = sigmoid(theta*X)\n",
    "    error = -y*np.log(h) - (1-y)*np.log(1-h)\n",
    "    return 1/m * sum(error)\n",
    "\n",
    "#call the function cost(theta, X, y) and print the output.\n",
    "\n",
    "theta = np.array([1, 2, 3])\n",
    "X = np.array([1, 2, 3])\n",
    "y = np.array([1, 0, 1])\n",
    "print(cost(theta, X, y))\n"
   ]
  },
  {
   "cell_type": "code",
   "execution_count": null,
   "metadata": {},
   "outputs": [],
   "source": [
    "#Implement gradient descent algorithm for logistic regression in data set loan_data.csv.\n",
    "\n",
    "import pandas as pd\n",
    "import numpy as np\n",
    "import matplotlib.pyplot as plt\n",
    "\n",
    "data = pd.read_csv('loan_data.csv')\n",
    "data.head()\n",
    "\n",
    "#\n",
    "\n"
   ]
  }
 ],
 "metadata": {
  "kernelspec": {
   "display_name": "Python 3 (ipykernel)",
   "language": "python",
   "name": "python3"
  },
  "language_info": {
   "codemirror_mode": {
    "name": "ipython",
    "version": 3
   },
   "file_extension": ".py",
   "mimetype": "text/x-python",
   "name": "python",
   "nbconvert_exporter": "python",
   "pygments_lexer": "ipython3",
   "version": "3.10.6"
  },
  "vscode": {
   "interpreter": {
    "hash": "916dbcbb3f70747c44a77c7bcd40155683ae19c65e1c03b4aa3499c5328201f1"
   }
  }
 },
 "nbformat": 4,
 "nbformat_minor": 2
}
