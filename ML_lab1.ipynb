{
  "cells": [
    {
      "cell_type": "markdown",
      "source": [
        "# *_Lab 1: Data Loading, Summary, and Visualisation_*\n",
        "## Abhinav Pandey\n",
        "## Roll No. : AM.EN.U4AIE21088\n"
      ],
      "metadata": {
        "collapsed": false,
        "id": "iAzHuGGXKEtF"
      }
    },
    {
      "cell_type": "markdown",
      "source": [
        "## With Diabetes dataset"
      ],
      "metadata": {
        "id": "zfBCkt5rQpQ5"
      }
    },
    {
      "cell_type": "markdown",
      "source": [
        "### *Data Frame*\n",
        "### Question 1"
      ],
      "metadata": {
        "collapsed": false,
        "id": "IycuqQQaKEtN"
      }
    },
    {
      "cell_type": "code",
      "execution_count": null,
      "metadata": {
        "colab": {
          "base_uri": "https://localhost:8080/"
        },
        "id": "233Pzt_mKEtO",
        "outputId": "34c88444-1743-4319-eba0-73361a42c4f2"
      },
      "outputs": [
        {
          "output_type": "stream",
          "name": "stdout",
          "text": [
            "   f1  f2  f3\n",
            "a   1   2   3\n",
            "b   4   5   6\n"
          ]
        }
      ],
      "source": [
        "import numpy\n",
        "import pandas\n",
        "myarray = numpy.array([[1,2,3],[4,5,6]])\n",
        "rownames = ['a','b']\n",
        "colnames=['f1','f2','f3']\n",
        "mydataframe = pandas.DataFrame(myarray, index = rownames, columns=colnames)\n",
        "print(mydataframe)"
      ]
    },
    {
      "cell_type": "markdown",
      "source": [
        "### Question 2"
      ],
      "metadata": {
        "collapsed": false,
        "id": "3MkxV9yOKEtR"
      }
    },
    {
      "cell_type": "code",
      "execution_count": null,
      "outputs": [
        {
          "output_type": "stream",
          "name": "stdout",
          "text": [
            "(768, 9)\n"
          ]
        }
      ],
      "source": [
        "from pandas import read_csv\n",
        "path='diabetes.csv'\n",
        "data=read_csv(path)\n",
        "print (data.shape)"
      ],
      "metadata": {
        "colab": {
          "base_uri": "https://localhost:8080/"
        },
        "id": "OopZtleAKEtR",
        "outputId": "ba701716-a6ff-4404-8723-81bb2cf5b469"
      }
    },
    {
      "cell_type": "code",
      "execution_count": null,
      "outputs": [
        {
          "output_type": "stream",
          "name": "stdout",
          "text": [
            "(768, 9)\n"
          ]
        }
      ],
      "source": [
        "from pandas import read_csv\n",
        "url='diabetes.csv'\n",
        "data=read_csv(url)\n",
        "print(data.shape)"
      ],
      "metadata": {
        "colab": {
          "base_uri": "https://localhost:8080/"
        },
        "id": "NQxmBxwfKEtS",
        "outputId": "653545e6-e8d3-4ead-cd3c-e367cb0057ab"
      }
    },
    {
      "cell_type": "markdown",
      "source": [
        "### Question 3"
      ],
      "metadata": {
        "collapsed": false,
        "id": "MbS3IaJjKEtT"
      }
    },
    {
      "cell_type": "code",
      "execution_count": null,
      "outputs": [
        {
          "output_type": "stream",
          "name": "stdout",
          "text": [
            "       Pregnancies     Glucose  BloodPressure  SkinThickness     Insulin  \\\n",
            "count   768.000000  768.000000     768.000000     768.000000  768.000000   \n",
            "mean      3.845052  120.894531      69.105469      20.536458   79.799479   \n",
            "std       3.369578   31.972618      19.355807      15.952218  115.244002   \n",
            "min       0.000000    0.000000       0.000000       0.000000    0.000000   \n",
            "25%       1.000000   99.000000      62.000000       0.000000    0.000000   \n",
            "50%       3.000000  117.000000      72.000000      23.000000   30.500000   \n",
            "75%       6.000000  140.250000      80.000000      32.000000  127.250000   \n",
            "max      17.000000  199.000000     122.000000      99.000000  846.000000   \n",
            "\n",
            "              BMI  DiabetesPedigreeFunction         Age     Outcome  \n",
            "count  768.000000                768.000000  768.000000  768.000000  \n",
            "mean    31.992578                  0.471876   33.240885    0.348958  \n",
            "std      7.884160                  0.331329   11.760232    0.476951  \n",
            "min      0.000000                  0.078000   21.000000    0.000000  \n",
            "25%     27.300000                  0.243750   24.000000    0.000000  \n",
            "50%     32.000000                  0.372500   29.000000    0.000000  \n",
            "75%     36.600000                  0.626250   41.000000    1.000000  \n",
            "max     67.100000                  2.420000   81.000000    1.000000  \n"
          ]
        }
      ],
      "source": [
        "description = data.describe()\n",
        "print(description)"
      ],
      "metadata": {
        "colab": {
          "base_uri": "https://localhost:8080/"
        },
        "id": "mKHDS3VIKEtU",
        "outputId": "4eab030e-6638-470b-fd23-45ada4d05522"
      }
    },
    {
      "cell_type": "code",
      "execution_count": null,
      "outputs": [
        {
          "output_type": "stream",
          "name": "stdout",
          "text": [
            "(768, 9)\n"
          ]
        }
      ],
      "source": [
        "print(data.shape)"
      ],
      "metadata": {
        "colab": {
          "base_uri": "https://localhost:8080/"
        },
        "id": "gjnd-pBjKEtU",
        "outputId": "a059a217-92e3-4fc8-946d-99bbba1c5b3c"
      }
    },
    {
      "cell_type": "code",
      "execution_count": null,
      "outputs": [
        {
          "output_type": "stream",
          "name": "stdout",
          "text": [
            "   Pregnancies  Glucose  BloodPressure  SkinThickness  Insulin   BMI  \\\n",
            "0            6      148             72             35        0  33.6   \n",
            "1            1       85             66             29        0  26.6   \n",
            "2            8      183             64              0        0  23.3   \n",
            "3            1       89             66             23       94  28.1   \n",
            "\n",
            "   DiabetesPedigreeFunction  Age  Outcome  \n",
            "0                     0.627   50        1  \n",
            "1                     0.351   31        0  \n",
            "2                     0.672   32        1  \n",
            "3                     0.167   21        0  \n"
          ]
        }
      ],
      "source": [
        "print(data.head(4))"
      ],
      "metadata": {
        "colab": {
          "base_uri": "https://localhost:8080/"
        },
        "id": "lThrSaxuKEtt",
        "outputId": "f651bcdd-d9f3-437a-c1d1-cf64c5550294"
      }
    },
    {
      "cell_type": "code",
      "execution_count": null,
      "outputs": [
        {
          "output_type": "stream",
          "name": "stdout",
          "text": [
            "Outcome\n",
            "0    500\n",
            "1    268\n",
            "dtype: int64\n"
          ]
        }
      ],
      "source": [
        "print(data.groupby('Outcome').size())"
      ],
      "metadata": {
        "colab": {
          "base_uri": "https://localhost:8080/"
        },
        "id": "l6-__1JJKEtu",
        "outputId": "2320179d-486a-47a2-eda6-2ecc2f2df0cd"
      }
    },
    {
      "cell_type": "markdown",
      "source": [
        "### *Data visualization*\n",
        "### Question 4"
      ],
      "metadata": {
        "collapsed": false,
        "id": "p5rFkdWJKEtv"
      }
    },
    {
      "cell_type": "code",
      "execution_count": null,
      "outputs": [
        {
          "output_type": "display_data",
          "data": {
            "text/plain": [
              "<Figure size 432x288 with 4 Axes>"
            ],
            "image/png": "[encoded data removed]"
          },
          "metadata": {
            "needs_background": "light"
          }
        }
      ],
      "source": [
        "import matplotlib.pyplot as plt\n",
        "import pandas\n",
        "from pandas.plotting import scatter_matrix\n",
        "scatter_matrix(data[['Pregnancies','Glucose']])\n",
        "plt.show()"
      ],
      "metadata": {
        "colab": {
          "base_uri": "https://localhost:8080/",
          "height": 284
        },
        "id": "H3bw6OPKKEtv",
        "outputId": "f69f6706-5f9f-407b-afe8-8e7862ea7435"
      }
    },
    {
      "cell_type": "code",
      "execution_count": null,
      "outputs": [
        {
          "output_type": "display_data",
          "data": {
            "text/plain": [
              "<Figure size 432x288 with 9 Axes>"
            ],
            "image/png": "[encoded data removed]"
          },
          "metadata": {
            "needs_background": "light"
          }
        }
      ],
      "source": [
        "import matplotlib.pyplot as plt\n",
        "import pandas\n",
        "from pandas.plotting import scatter_matrix\n",
        "#scatter_matrix(data)\n",
        "plt.show()\n",
        "data.hist()\n",
        "plt.show()"
      ],
      "metadata": {
        "colab": {
          "base_uri": "https://localhost:8080/",
          "height": 281
        },
        "id": "wJbOp4k8KEtw",
        "outputId": "d2fcfcdf-9b62-4c84-cca3-c1f96d635b29"
      }
    },
    {
      "cell_type": "markdown",
      "source": [
        "### Question 5"
      ],
      "metadata": {
        "collapsed": false,
        "id": "XKFVgl7kKEtx"
      }
    },
    {
      "cell_type": "code",
      "execution_count": null,
      "outputs": [
        {
          "output_type": "stream",
          "name": "stdout",
          "text": [
            "     Pregnancies  Glucose  BloodPressure  SkinThickness  Insulin   BMI  \\\n",
            "0              6      148             72             35        0  33.6   \n",
            "1              1       85             66             29        0  26.6   \n",
            "2              8      183             64              0        0  23.3   \n",
            "3              1       89             66             23       94  28.1   \n",
            "4              0      137             40             35      168  43.1   \n",
            "..           ...      ...            ...            ...      ...   ...   \n",
            "763           10      101             76             48      180  32.9   \n",
            "764            2      122             70             27        0  36.8   \n",
            "765            5      121             72             23      112  26.2   \n",
            "766            1      126             60              0        0  30.1   \n",
            "767            1       93             70             31        0  30.4   \n",
            "\n",
            "     DiabetesPedigreeFunction  Age  Outcome  \n",
            "0                       0.627   50        1  \n",
            "1                       0.351   31        0  \n",
            "2                       0.672   32        1  \n",
            "3                       0.167   21        0  \n",
            "4                       2.288   33        1  \n",
            "..                        ...  ...      ...  \n",
            "763                     0.171   63        0  \n",
            "764                     0.340   27        0  \n",
            "765                     0.245   30        0  \n",
            "766                     0.349   47        1  \n",
            "767                     0.315   23        0  \n",
            "\n",
            "[768 rows x 9 columns]\n",
            "[[ 0.64   0.848  0.15   0.907 -0.693  0.204  0.468  1.426]\n",
            " [-0.845 -1.123 -0.161  0.531 -0.693 -0.684 -0.365 -0.191]]\n",
            "[[  6.    148.     72.     35.      0.     33.6     0.627  50.   ]\n",
            " [  1.     85.     66.     29.      0.     26.6     0.351  31.   ]]\n"
          ]
        }
      ],
      "source": [
        "from sklearn.preprocessing import StandardScaler\n",
        "import pandas\n",
        "import numpy\n",
        "arr=data.values\n",
        "X=arr[:,0:8]\n",
        "Y=arr[:8]\n",
        "print(data.loc[:, ~data.columns.isin(['diagnosis'])])\n",
        "scaler=StandardScaler().fit(X)\n",
        "rescaledX=scaler.transform(X)\n",
        "numpy.set_printoptions(precision=3)\n",
        "print(rescaledX[0:2,:])\n",
        "print(X[0:2,:])"
      ],
      "metadata": {
        "colab": {
          "base_uri": "https://localhost:8080/"
        },
        "id": "iG5hRwkYKEtx",
        "outputId": "ef3a23e4-c910-4637-cae5-5e48be3a1982"
      }
    },
    {
      "cell_type": "markdown",
      "source": [
        "### Question 6"
      ],
      "metadata": {
        "collapsed": false,
        "id": "KVIsUyYqPt6z"
      }
    },
    {
      "cell_type": "markdown",
      "source": [
        "standardise method"
      ],
      "metadata": {
        "collapsed": false,
        "id": "BFSQTPa7Pt63"
      }
    },
    {
      "cell_type": "code",
      "execution_count": null,
      "outputs": [
        {
          "output_type": "stream",
          "name": "stdout",
          "text": [
            "    0\n",
            "0   1\n",
            "1   3\n",
            "2 -10\n",
            "3   4\n",
            "4   5\n",
            "5   7\n",
            "6  -4\n",
            "7  -2\n",
            "8  10\n"
          ]
        }
      ],
      "source": [
        "myarray=numpy.array([1,3,-10,4,5,7,-4,-2,10])\n",
        "mydataframe = pandas.DataFrame(myarray)\n",
        "print(mydataframe)"
      ],
      "metadata": {
        "colab": {
          "base_uri": "https://localhost:8080/"
        },
        "outputId": "2ff825dc-3259-4d09-b4e6-1d18026a866d",
        "id": "rDpNjzqgPt63"
      }
    },
    {
      "cell_type": "code",
      "execution_count": null,
      "outputs": [
        {
          "output_type": "display_data",
          "data": {
            "text/plain": [
              "<Figure size 432x288 with 1 Axes>"
            ],
            "image/png": "[encoded data removed]"
          },
          "metadata": {
            "needs_background": "light"
          }
        }
      ],
      "source": [
        "mydataframe.plot(kind='bar')\n",
        "plt.show()"
      ],
      "metadata": {
        "colab": {
          "base_uri": "https://localhost:8080/",
          "height": 262
        },
        "outputId": "999d23a9-1a21-48e6-e10b-33b431186ed0",
        "id": "HdpHPcXPPt7F"
      }
    },
    {
      "cell_type": "markdown",
      "source": [
        "normalised method"
      ],
      "metadata": {
        "collapsed": false,
        "id": "AVWE3c7ZPt7F"
      }
    },
    {
      "cell_type": "code",
      "execution_count": null,
      "outputs": [
        {
          "output_type": "stream",
          "name": "stdout",
          "text": [
            "      0\n",
            "0  0.55\n",
            "1  0.65\n",
            "2  0.00\n",
            "3  0.70\n",
            "4  0.75\n",
            "5  0.85\n",
            "6  0.30\n",
            "7  0.40\n",
            "8  1.00\n"
          ]
        },
        {
          "output_type": "display_data",
          "data": {
            "text/plain": [
              "<Figure size 432x288 with 1 Axes>"
            ],
            "image/png": "[encoded data removed]"
          },
          "metadata": {
            "needs_background": "light"
          }
        }
      ],
      "source": [
        "from sklearn import preprocessing\n",
        "fl_x=mydataframe.values.astype(float)\n",
        "#fl_x=mydataframe[['f1']].values.astype(float) \n",
        "min_max_scaler=preprocessing.MinMaxScaler()\n",
        "X_scaled=min_max_scaler.fit_transform(fl_x)\n",
        "df_normalized=pandas.DataFrame(X_scaled)\n",
        "print(df_normalized)\n",
        "df_normalized.plot(kind='bar')\n",
        "plt.show()"
      ],
      "metadata": {
        "colab": {
          "base_uri": "https://localhost:8080/",
          "height": 436
        },
        "outputId": "948a456c-3051-4099-b1fb-8419852acd03",
        "id": "MP_oZPWYPt7F"
      }
    },
    {
      "cell_type": "markdown",
      "source": [
        "standardise method"
      ],
      "metadata": {
        "collapsed": false,
        "id": "jnZ3QoSPKEtz"
      }
    },
    {
      "cell_type": "code",
      "execution_count": null,
      "outputs": [
        {
          "output_type": "stream",
          "name": "stdout",
          "text": [
            "    0\n",
            "0   1\n",
            "1   3\n",
            "2 -10\n",
            "3   4\n",
            "4   5\n",
            "5   7\n",
            "6  -4\n",
            "7  -2\n",
            "8  10\n"
          ]
        }
      ],
      "source": [
        "myarray=numpy.array([1,3,-10,4,5,7,-4,-2,10])\n",
        "mydataframe = pandas.DataFrame(myarray)\n",
        "print(mydataframe)"
      ],
      "metadata": {
        "colab": {
          "base_uri": "https://localhost:8080/"
        },
        "id": "JIjBUoBSKEtz",
        "outputId": "d0ddfd65-d9e3-4590-9d1b-8b73ec92a38c"
      }
    },
    {
      "cell_type": "code",
      "execution_count": null,
      "outputs": [
        {
          "output_type": "display_data",
          "data": {
            "text/plain": [
              "<Figure size 432x288 with 1 Axes>"
            ],
            "image/png": "[encoded data removed]"
          },
          "metadata": {
            "needs_background": "light"
          }
        }
      ],
      "source": [
        "mydataframe.plot(kind='bar')\n",
        "plt.show()"
      ],
      "metadata": {
        "colab": {
          "base_uri": "https://localhost:8080/",
          "height": 262
        },
        "id": "129MV1CHKEt0",
        "outputId": "195c70c8-a299-4aab-c49d-a8ae1ab1a7ab"
      }
    },
    {
      "cell_type": "markdown",
      "source": [
        "## With Cancer dataset"
      ],
      "metadata": {
        "id": "5fVMqdYnPBUo"
      }
    },
    {
      "cell_type": "markdown",
      "source": [
        "### Question 2"
      ],
      "metadata": {
        "collapsed": false,
        "id": "BvD4D8b0OypA"
      }
    },
    {
      "cell_type": "code",
      "execution_count": null,
      "outputs": [
        {
          "output_type": "stream",
          "name": "stdout",
          "text": [
            "(569, 33)\n"
          ]
        }
      ],
      "source": [
        "from pandas import read_csv\n",
        "path='data.csv'\n",
        "data=read_csv(path)\n",
        "print (data.shape)"
      ],
      "metadata": {
        "id": "KdjifGASOypB",
        "outputId": "934617fb-27a6-425f-aeae-b7a12091f6a9",
        "colab": {
          "base_uri": "https://localhost:8080/"
        }
      }
    },
    {
      "cell_type": "code",
      "execution_count": null,
      "outputs": [
        {
          "output_type": "stream",
          "name": "stdout",
          "text": [
            "(569, 33)\n"
          ]
        }
      ],
      "source": [
        "from pandas import read_csv\n",
        "url='data.csv'\n",
        "data=read_csv(url)\n",
        "colnames=['id','diagnosis','radius_mean','texture_mean','perimeter_mean','area_mean','smoothness_mean','compactness_mean','concavity_mean','concave points_mean','symmetry_mean','fractal_dimension_mean','radius_se','texture_se','perimeter_se','area_se','smoothness_se','compactness_se','concavity_se','concave points_se','symmetry_se','fractal_dimension_se','radius_worst','texture_worst','perimeter_worst','area_worst','smoothness_worst','compactness_worst','concavity_worst','concave points_worst','symmetry_worst','fractal_dimension_worst']\n",
        "print(data.shape)"
      ],
      "metadata": {
        "id": "x4-dlSotOypC",
        "outputId": "a2ee2df8-8ba8-41e5-96c1-a94ca96d0a8a",
        "colab": {
          "base_uri": "https://localhost:8080/"
        }
      }
    },
    {
      "cell_type": "markdown",
      "source": [
        "### Question 3"
      ],
      "metadata": {
        "collapsed": false,
        "id": "ikdb7YMcOypD"
      }
    },
    {
      "cell_type": "code",
      "execution_count": null,
      "outputs": [
        {
          "output_type": "stream",
          "name": "stdout",
          "text": [
            "                 id  radius_mean  texture_mean  perimeter_mean    area_mean  \\\n",
            "count  5.690000e+02   569.000000    569.000000      569.000000   569.000000   \n",
            "mean   3.037183e+07    14.127292     19.289649       91.969033   654.889104   \n",
            "std    1.250206e+08     3.524049      4.301036       24.298981   351.914129   \n",
            "min    8.670000e+03     6.981000      9.710000       43.790000   143.500000   \n",
            "25%    8.692180e+05    11.700000     16.170000       75.170000   420.300000   \n",
            "50%    9.060240e+05    13.370000     18.840000       86.240000   551.100000   \n",
            "75%    8.813129e+06    15.780000     21.800000      104.100000   782.700000   \n",
            "max    9.113205e+08    28.110000     39.280000      188.500000  2501.000000   \n",
            "\n",
            "       smoothness_mean  compactness_mean  concavity_mean  concave points_mean  \\\n",
            "count       569.000000        569.000000      569.000000           569.000000   \n",
            "mean          0.096360          0.104341        0.088799             0.048919   \n",
            "std           0.014064          0.052813        0.079720             0.038803   \n",
            "min           0.052630          0.019380        0.000000             0.000000   \n",
            "25%           0.086370          0.064920        0.029560             0.020310   \n",
            "50%           0.095870          0.092630        0.061540             0.033500   \n",
            "75%           0.105300          0.130400        0.130700             0.074000   \n",
            "max           0.163400          0.345400        0.426800             0.201200   \n",
            "\n",
            "       symmetry_mean  ...  texture_worst  perimeter_worst   area_worst  \\\n",
            "count     569.000000  ...     569.000000       569.000000   569.000000   \n",
            "mean        0.181162  ...      25.677223       107.261213   880.583128   \n",
            "std         0.027414  ...       6.146258        33.602542   569.356993   \n",
            "min         0.106000  ...      12.020000        50.410000   185.200000   \n",
            "25%         0.161900  ...      21.080000        84.110000   515.300000   \n",
            "50%         0.179200  ...      25.410000        97.660000   686.500000   \n",
            "75%         0.195700  ...      29.720000       125.400000  1084.000000   \n",
            "max         0.304000  ...      49.540000       251.200000  4254.000000   \n",
            "\n",
            "       smoothness_worst  compactness_worst  concavity_worst  \\\n",
            "count        569.000000         569.000000       569.000000   \n",
            "mean           0.132369           0.254265         0.272188   \n",
            "std            0.022832           0.157336         0.208624   \n",
            "min            0.071170           0.027290         0.000000   \n",
            "25%            0.116600           0.147200         0.114500   \n",
            "50%            0.131300           0.211900         0.226700   \n",
            "75%            0.146000           0.339100         0.382900   \n",
            "max            0.222600           1.058000         1.252000   \n",
            "\n",
            "       concave points_worst  symmetry_worst  fractal_dimension_worst  \\\n",
            "count            569.000000      569.000000               569.000000   \n",
            "mean               0.114606        0.290076                 0.083946   \n",
            "std                0.065732        0.061867                 0.018061   \n",
            "min                0.000000        0.156500                 0.055040   \n",
            "25%                0.064930        0.250400                 0.071460   \n",
            "50%                0.099930        0.282200                 0.080040   \n",
            "75%                0.161400        0.317900                 0.092080   \n",
            "max                0.291000        0.663800                 0.207500   \n",
            "\n",
            "       Unnamed: 32  \n",
            "count          0.0  \n",
            "mean           NaN  \n",
            "std            NaN  \n",
            "min            NaN  \n",
            "25%            NaN  \n",
            "50%            NaN  \n",
            "75%            NaN  \n",
            "max            NaN  \n",
            "\n",
            "[8 rows x 32 columns]\n"
          ]
        }
      ],
      "source": [
        "description = data.describe()\n",
        "print(description)"
      ],
      "metadata": {
        "id": "QVqyK04QOypE",
        "outputId": "60bc24d1-16a7-4e27-9419-fec9e3fdb65e",
        "colab": {
          "base_uri": "https://localhost:8080/"
        }
      }
    },
    {
      "cell_type": "code",
      "execution_count": null,
      "outputs": [
        {
          "output_type": "stream",
          "name": "stdout",
          "text": [
            "(569, 33)\n"
          ]
        }
      ],
      "source": [
        "print(data.shape)"
      ],
      "metadata": {
        "id": "1teU5Qx8OypE",
        "outputId": "03a26b38-6b30-4fa5-c7f6-9d8bab230e4c",
        "colab": {
          "base_uri": "https://localhost:8080/"
        }
      }
    },
    {
      "cell_type": "code",
      "execution_count": null,
      "outputs": [
        {
          "output_type": "stream",
          "name": "stdout",
          "text": [
            "         id diagnosis  radius_mean  texture_mean  perimeter_mean  area_mean  \\\n",
            "0    842302         M        17.99         10.38          122.80     1001.0   \n",
            "1    842517         M        20.57         17.77          132.90     1326.0   \n",
            "2  84300903         M        19.69         21.25          130.00     1203.0   \n",
            "3  84348301         M        11.42         20.38           77.58      386.1   \n",
            "\n",
            "   smoothness_mean  compactness_mean  concavity_mean  concave points_mean  \\\n",
            "0          0.11840           0.27760          0.3001              0.14710   \n",
            "1          0.08474           0.07864          0.0869              0.07017   \n",
            "2          0.10960           0.15990          0.1974              0.12790   \n",
            "3          0.14250           0.28390          0.2414              0.10520   \n",
            "\n",
            "   ...  texture_worst  perimeter_worst  area_worst  smoothness_worst  \\\n",
            "0  ...          17.33           184.60      2019.0            0.1622   \n",
            "1  ...          23.41           158.80      1956.0            0.1238   \n",
            "2  ...          25.53           152.50      1709.0            0.1444   \n",
            "3  ...          26.50            98.87       567.7            0.2098   \n",
            "\n",
            "   compactness_worst  concavity_worst  concave points_worst  symmetry_worst  \\\n",
            "0             0.6656           0.7119                0.2654          0.4601   \n",
            "1             0.1866           0.2416                0.1860          0.2750   \n",
            "2             0.4245           0.4504                0.2430          0.3613   \n",
            "3             0.8663           0.6869                0.2575          0.6638   \n",
            "\n",
            "   fractal_dimension_worst  Unnamed: 32  \n",
            "0                  0.11890          NaN  \n",
            "1                  0.08902          NaN  \n",
            "2                  0.08758          NaN  \n",
            "3                  0.17300          NaN  \n",
            "\n",
            "[4 rows x 33 columns]\n"
          ]
        }
      ],
      "source": [
        "print(data.head(4))"
      ],
      "metadata": {
        "id": "1pIQgqljOypF",
        "outputId": "920e26c6-55fd-4a09-e1f3-0979c28985dc",
        "colab": {
          "base_uri": "https://localhost:8080/"
        }
      }
    },
    {
      "cell_type": "code",
      "execution_count": null,
      "outputs": [
        {
          "output_type": "stream",
          "name": "stdout",
          "text": [
            "fractal_dimension_worst\n",
            "0.05504    1\n",
            "0.05521    1\n",
            "0.05525    1\n",
            "0.05695    1\n",
            "0.05737    1\n",
            "          ..\n",
            "0.14310    1\n",
            "0.14460    1\n",
            "0.14860    1\n",
            "0.17300    1\n",
            "0.20750    1\n",
            "Length: 535, dtype: int64\n"
          ]
        }
      ],
      "source": [
        "print(data.groupby('fractal_dimension_worst').size())"
      ],
      "metadata": {
        "id": "78_31ptqOypF",
        "outputId": "dfb41503-5bc2-4f66-cfb3-2a06a7841575",
        "colab": {
          "base_uri": "https://localhost:8080/"
        }
      }
    },
    {
      "cell_type": "markdown",
      "source": [
        "### *Data visualization*\n",
        "### Question 4"
      ],
      "metadata": {
        "collapsed": false,
        "id": "MtvjRZhvOypG"
      }
    },
    {
      "cell_type": "code",
      "execution_count": null,
      "outputs": [
        {
          "output_type": "display_data",
          "data": {
            "text/plain": [
              "<Figure size 432x288 with 1 Axes>"
            ],
            "image/png": "[encoded data removed]"
          },
          "metadata": {
            "needs_background": "light"
          }
        }
      ],
      "source": [
        "import matplotlib.pyplot as plt\n",
        "import pandas\n",
        "from pandas.plotting import scatter_matrix\n",
        "scatter_matrix(data[['fractal_dimension_worst']])\n",
        "plt.show()"
      ],
      "metadata": {
        "id": "aalfeEb_OypG",
        "outputId": "7108a9c4-942c-45bc-954e-0d9c583dbb68",
        "colab": {
          "base_uri": "https://localhost:8080/",
          "height": 288
        }
      }
    },
    {
      "cell_type": "code",
      "execution_count": null,
      "outputs": [
        {
          "output_type": "display_data",
          "data": {
            "text/plain": [
              "<Figure size 432x288 with 36 Axes>"
            ],
            "image/png": "[encoded data removed]"
          },
          "metadata": {
            "needs_background": "light"
          }
        }
      ],
      "source": [
        "import matplotlib.pyplot as plt\n",
        "import pandas\n",
        "from pandas.plotting import scatter_matrix\n",
        "#scatter_matrix(data)\n",
        "plt.show()\n",
        "data.hist()\n",
        "plt.show()"
      ],
      "metadata": {
        "id": "drfCLa9sOypH",
        "outputId": "08a35b10-73de-471b-dc13-986de3774945",
        "colab": {
          "base_uri": "https://localhost:8080/",
          "height": 281
        }
      }
    },
    {
      "cell_type": "markdown",
      "source": [
        "### Question 5"
      ],
      "metadata": {
        "collapsed": false,
        "id": "nSjDlmRZOypJ"
      }
    },
    {
      "cell_type": "code",
      "execution_count": null,
      "outputs": [
        {
          "output_type": "stream",
          "name": "stdout",
          "text": [
            "           id  radius_mean  texture_mean  perimeter_mean  area_mean  \\\n",
            "0      842302        17.99         10.38          122.80     1001.0   \n",
            "1      842517        20.57         17.77          132.90     1326.0   \n",
            "2    84300903        19.69         21.25          130.00     1203.0   \n",
            "3    84348301        11.42         20.38           77.58      386.1   \n",
            "4    84358402        20.29         14.34          135.10     1297.0   \n",
            "..        ...          ...           ...             ...        ...   \n",
            "564    926424        21.56         22.39          142.00     1479.0   \n",
            "565    926682        20.13         28.25          131.20     1261.0   \n",
            "566    926954        16.60         28.08          108.30      858.1   \n",
            "567    927241        20.60         29.33          140.10     1265.0   \n",
            "568     92751         7.76         24.54           47.92      181.0   \n",
            "\n",
            "     smoothness_mean  compactness_mean  concavity_mean  concave points_mean  \\\n",
            "0            0.11840           0.27760         0.30010              0.14710   \n",
            "1            0.08474           0.07864         0.08690              0.07017   \n",
            "2            0.10960           0.15990         0.19740              0.12790   \n",
            "3            0.14250           0.28390         0.24140              0.10520   \n",
            "4            0.10030           0.13280         0.19800              0.10430   \n",
            "..               ...               ...             ...                  ...   \n",
            "564          0.11100           0.11590         0.24390              0.13890   \n",
            "565          0.09780           0.10340         0.14400              0.09791   \n",
            "566          0.08455           0.10230         0.09251              0.05302   \n",
            "567          0.11780           0.27700         0.35140              0.15200   \n",
            "568          0.05263           0.04362         0.00000              0.00000   \n",
            "\n",
            "     symmetry_mean  ...  texture_worst  perimeter_worst  area_worst  \\\n",
            "0           0.2419  ...          17.33           184.60      2019.0   \n",
            "1           0.1812  ...          23.41           158.80      1956.0   \n",
            "2           0.2069  ...          25.53           152.50      1709.0   \n",
            "3           0.2597  ...          26.50            98.87       567.7   \n",
            "4           0.1809  ...          16.67           152.20      1575.0   \n",
            "..             ...  ...            ...              ...         ...   \n",
            "564         0.1726  ...          26.40           166.10      2027.0   \n",
            "565         0.1752  ...          38.25           155.00      1731.0   \n",
            "566         0.1590  ...          34.12           126.70      1124.0   \n",
            "567         0.2397  ...          39.42           184.60      1821.0   \n",
            "568         0.1587  ...          30.37            59.16       268.6   \n",
            "\n",
            "     smoothness_worst  compactness_worst  concavity_worst  \\\n",
            "0             0.16220            0.66560           0.7119   \n",
            "1             0.12380            0.18660           0.2416   \n",
            "2             0.14440            0.42450           0.4504   \n",
            "3             0.20980            0.86630           0.6869   \n",
            "4             0.13740            0.20500           0.4000   \n",
            "..                ...                ...              ...   \n",
            "564           0.14100            0.21130           0.4107   \n",
            "565           0.11660            0.19220           0.3215   \n",
            "566           0.11390            0.30940           0.3403   \n",
            "567           0.16500            0.86810           0.9387   \n",
            "568           0.08996            0.06444           0.0000   \n",
            "\n",
            "     concave points_worst  symmetry_worst  fractal_dimension_worst  \\\n",
            "0                  0.2654          0.4601                  0.11890   \n",
            "1                  0.1860          0.2750                  0.08902   \n",
            "2                  0.2430          0.3613                  0.08758   \n",
            "3                  0.2575          0.6638                  0.17300   \n",
            "4                  0.1625          0.2364                  0.07678   \n",
            "..                    ...             ...                      ...   \n",
            "564                0.2216          0.2060                  0.07115   \n",
            "565                0.1628          0.2572                  0.06637   \n",
            "566                0.1418          0.2218                  0.07820   \n",
            "567                0.2650          0.4087                  0.12400   \n",
            "568                0.0000          0.2871                  0.07039   \n",
            "\n",
            "     Unnamed: 32  \n",
            "0            NaN  \n",
            "1            NaN  \n",
            "2            NaN  \n",
            "3            NaN  \n",
            "4            NaN  \n",
            "..           ...  \n",
            "564          NaN  \n",
            "565          NaN  \n",
            "566          NaN  \n",
            "567          NaN  \n",
            "568          NaN  \n",
            "\n",
            "[569 rows x 32 columns]\n",
            "[[ 0.64   0.848  0.15   0.907 -0.693  0.204  0.468  1.426]\n",
            " [-0.845 -1.123 -0.161  0.531 -0.693 -0.684 -0.365 -0.191]]\n",
            "[[842302 'M' 17.99 10.38 122.8 1001.0 0.1184 0.2776]\n",
            " [842517 'M' 20.57 17.77 132.9 1326.0 0.08474 0.07864]]\n"
          ]
        }
      ],
      "source": [
        "from sklearn.preprocessing import StandardScaler\n",
        "import pandas\n",
        "import numpy\n",
        "arr=data.values\n",
        "X=arr[:,0:8]\n",
        "Y=arr[:8]\n",
        "print(data.loc[:, ~data.columns.isin(['diagnosis'])])\n",
        "numpy.set_printoptions(precision=3)\n",
        "print(rescaledX[0:2,:])\n",
        "print(X[0:2,:])"
      ],
      "metadata": {
        "id": "VixYYB7JOypJ",
        "outputId": "aa5df464-fc1c-4424-d92f-9d76f0c45899",
        "colab": {
          "base_uri": "https://localhost:8080/"
        }
      }
    },
    {
      "cell_type": "markdown",
      "source": [
        "### Question 6"
      ],
      "metadata": {
        "collapsed": false,
        "id": "Wbh2gyhYQfyj"
      }
    },
    {
      "cell_type": "markdown",
      "source": [
        "standardise method"
      ],
      "metadata": {
        "collapsed": false,
        "id": "Z9xEyS5BQfys"
      }
    },
    {
      "cell_type": "code",
      "execution_count": null,
      "outputs": [
        {
          "output_type": "stream",
          "name": "stdout",
          "text": [
            "    0\n",
            "0   1\n",
            "1   3\n",
            "2 -10\n",
            "3   4\n",
            "4   5\n",
            "5   7\n",
            "6  -4\n",
            "7  -2\n",
            "8  10\n"
          ]
        }
      ],
      "source": [
        "myarray=numpy.array([1,3,-10,4,5,7,-4,-2,10])\n",
        "mydataframe = pandas.DataFrame(myarray)\n",
        "print(mydataframe)"
      ],
      "metadata": {
        "colab": {
          "base_uri": "https://localhost:8080/"
        },
        "outputId": "0036c2c6-d01d-46bb-d4e2-56d5a3723246",
        "id": "W-Z66a4fQfys"
      }
    },
    {
      "cell_type": "code",
      "execution_count": null,
      "outputs": [
        {
          "output_type": "display_data",
          "data": {
            "text/plain": [
              "<Figure size 432x288 with 1 Axes>"
            ],
            "image/png": "[encoded data removed]"
          },
          "metadata": {
            "needs_background": "light"
          }
        }
      ],
      "source": [
        "mydataframe.plot(kind='bar')\n",
        "plt.show()"
      ],
      "metadata": {
        "colab": {
          "base_uri": "https://localhost:8080/",
          "height": 262
        },
        "outputId": "5d4eca18-749a-4656-d4bb-99a7c09e43a0",
        "id": "LoMwUGoPQfyt"
      }
    },
    {
      "cell_type": "markdown",
      "source": [
        "normalised method"
      ],
      "metadata": {
        "collapsed": false,
        "id": "N5BTE4KzQfyt"
      }
    },
    {
      "cell_type": "code",
      "execution_count": null,
      "outputs": [
        {
          "output_type": "stream",
          "name": "stdout",
          "text": [
            "      0\n",
            "0  0.55\n",
            "1  0.65\n",
            "2  0.00\n",
            "3  0.70\n",
            "4  0.75\n",
            "5  0.85\n",
            "6  0.30\n",
            "7  0.40\n",
            "8  1.00\n"
          ]
        },
        {
          "output_type": "display_data",
          "data": {
            "text/plain": [
              "<Figure size 432x288 with 1 Axes>"
            ],
            "image/png": "[encoded data removed]"
          },
          "metadata": {
            "needs_background": "light"
          }
        }
      ],
      "source": [
        "from sklearn import preprocessing\n",
        "fl_x=mydataframe.values.astype(float)\n",
        "#fl_x=mydataframe[['f1']].values.astype(float) \n",
        "min_max_scaler=preprocessing.MinMaxScaler()\n",
        "X_scaled=min_max_scaler.fit_transform(fl_x)\n",
        "df_normalized=pandas.DataFrame(X_scaled)\n",
        "print(df_normalized)\n",
        "df_normalized.plot(kind='bar')\n",
        "plt.show()"
      ],
      "metadata": {
        "colab": {
          "base_uri": "https://localhost:8080/",
          "height": 436
        },
        "outputId": "b572f81b-b483-4e88-8eb3-02a0decfa5a2",
        "id": "vN8oLGSOQfyt"
      }
    },
    {
      "cell_type": "markdown",
      "source": [
        "standardise method"
      ],
      "metadata": {
        "collapsed": false,
        "id": "lbUITHeTQfyt"
      }
    },
    {
      "cell_type": "code",
      "execution_count": null,
      "outputs": [
        {
          "output_type": "stream",
          "name": "stdout",
          "text": [
            "    0\n",
            "0   1\n",
            "1   3\n",
            "2 -10\n",
            "3   4\n",
            "4   5\n",
            "5   7\n",
            "6  -4\n",
            "7  -2\n",
            "8  10\n"
          ]
        }
      ],
      "source": [
        "myarray=numpy.array([1,3,-10,4,5,7,-4,-2,10])\n",
        "mydataframe = pandas.DataFrame(myarray)\n",
        "print(mydataframe)"
      ],
      "metadata": {
        "colab": {
          "base_uri": "https://localhost:8080/"
        },
        "outputId": "a9111294-290a-4307-a5f2-965d42b2d471",
        "id": "yBkZ1EnpQfyt"
      }
    },
    {
      "cell_type": "code",
      "execution_count": null,
      "outputs": [
        {
          "output_type": "display_data",
          "data": {
            "text/plain": [
              "<Figure size 432x288 with 1 Axes>"
            ],
            "image/png": "[encoded data removed]"
          },
          "metadata": {
            "needs_background": "light"
          }
        }
      ],
      "source": [
        "mydataframe.plot(kind='bar')\n",
        "plt.show()"
      ],
      "metadata": {
        "colab": {
          "base_uri": "https://localhost:8080/",
          "height": 262
        },
        "outputId": "03a5c59f-c1e8-48cb-860d-42a4e111a9a4",
        "id": "QNR-0i7KQfyt"
      }
    }
  ],
  "metadata": {
    "kernelspec": {
      "display_name": "Python 3",
      "language": "python",
      "name": "python3"
    },
    "language_info": {
      "codemirror_mode": {
        "name": "ipython",
        "version": 2
      },
      "file_extension": ".py",
      "mimetype": "text/x-python",
      "name": "python",
      "nbconvert_exporter": "python",
      "pygments_lexer": "ipython2",
      "version": "2.7.6"
    },
    "colab": {
      "provenance": []
    }
  },
  "nbformat": 4,
  "nbformat_minor": 0
}