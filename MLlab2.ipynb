{
  "cells": [
    {
      "cell_type": "markdown",
      "metadata": {
        "id": "T1XYmMFNcnFd"
      },
      "source": [
        "#LABSHEET 2\n",
        "\n",
        "NAME     : Abhinav Pandey\n",
        "\n",
        "ROLL NO. : AM.EN.U4AIE21088"
      ]
    },
    {
      "cell_type": "markdown",
      "metadata": {
        "id": "qQlqEq2OXXMS"
      },
      "source": [
        "# PART-A"
      ]
    },
    {
      "cell_type": "markdown",
      "metadata": {
        "id": "UB6eq1hwSxYn"
      },
      "source": [
        "## *Question 1*\n",
        "Create two vectors using numpy and check how many values are equal in  in the two vectors."
      ]
    },
    {
      "cell_type": "code",
      "execution_count": 57,
      "metadata": {
        "colab": {
          "base_uri": "https://localhost:8080/",
          "height": 0
        },
        "id": "Yld3LqD5RbU4",
        "outputId": "c0e9b762-5d68-4579-8e2b-908350617805"
      },
      "outputs": [
        {
          "data": {
            "text/plain": [
              "2"
            ]
          },
          "execution_count": 57,
          "metadata": {},
          "output_type": "execute_result"
        }
      ],
      "source": [
        "import numpy as np\n",
        "l1 = [1 ,6 ,7 ,9]\n",
        "l2 = [1 ,0 ,6 ,9]\n",
        "V1 = np.array(l1)\n",
        "V2 = np.array(l2)\n",
        "np.sum(V1==V2)"
      ]
    },
    {
      "cell_type": "markdown",
      "metadata": {
        "id": "oH3bjlgLUR6J"
      },
      "source": [
        "## *Question 2*\n",
        "Matrix creation using numpy"
      ]
    },
    {
      "cell_type": "code",
      "execution_count": 3,
      "metadata": {
        "colab": {
          "base_uri": "https://localhost:8080/",
          "height": 0
        },
        "id": "BNuH4Ku_UWuf",
        "outputId": "57279cd2-e94a-48b3-a12a-346cd8297ec7"
      },
      "outputs": [
        {
          "data": {
            "text/plain": [
              "(10, 3)"
            ]
          },
          "execution_count": 3,
          "metadata": {},
          "output_type": "execute_result"
        }
      ],
      "source": [
        "M = np.matrix('1 2 3; 4 5 6; 7 8 9; 2 2 1; 6 5 4; 9 8 7; 2 2 3; 4 5 6; 7 8 9; 10 14 11')\n",
        "M.shape"
      ]
    },
    {
      "cell_type": "code",
      "execution_count": 4,
      "metadata": {
        "colab": {
          "base_uri": "https://localhost:8080/",
          "height": 0
        },
        "id": "8cY1po9-U3j5",
        "outputId": "272fe1a4-cb6a-4322-a896-4fff49d0382e"
      },
      "outputs": [
        {
          "data": {
            "text/plain": [
              "10"
            ]
          },
          "execution_count": 4,
          "metadata": {},
          "output_type": "execute_result"
        }
      ],
      "source": [
        "M.shape[0]"
      ]
    },
    {
      "cell_type": "code",
      "execution_count": 5,
      "metadata": {
        "colab": {
          "base_uri": "https://localhost:8080/",
          "height": 0
        },
        "id": "YyzfffDIU7bw",
        "outputId": "f30435c3-43b8-4fb3-ee81-3208f0cd96fb"
      },
      "outputs": [
        {
          "data": {
            "text/plain": [
              "3"
            ]
          },
          "execution_count": 5,
          "metadata": {},
          "output_type": "execute_result"
        }
      ],
      "source": [
        "M.shape[1]"
      ]
    },
    {
      "cell_type": "code",
      "execution_count": 6,
      "metadata": {
        "colab": {
          "base_uri": "https://localhost:8080/",
          "height": 0
        },
        "id": "XJDZuCdzVAmC",
        "outputId": "c078c3c7-9b2f-4715-e305-b79108a9e873"
      },
      "outputs": [
        {
          "name": "stdout",
          "output_type": "stream",
          "text": [
            "[[ 1  2  0]\n",
            " [ 4  5  0]\n",
            " [ 7  8  0]\n",
            " [ 2  2  1]\n",
            " [ 6  5  0]\n",
            " [ 9  8  0]\n",
            " [ 2  2  1]\n",
            " [ 4  5  0]\n",
            " [ 7  8  0]\n",
            " [10 14  1]]\n"
          ]
        }
      ],
      "source": [
        "for i in range(M.shape[0]):\n",
        "    if (M[i,0]+M[i,1])%4==0:\n",
        "      M[i,2] = 1\n",
        "    else: \n",
        "      M[i,2] = 0\n",
        "print(M)"
      ]
    },
    {
      "cell_type": "markdown",
      "metadata": {
        "id": "loaLZOhLYR3j"
      },
      "source": [
        "## *Question 3*\n",
        "Create a pandas dataframe‘df’from the created matrix M and name the columns as X1,X2, and Y."
      ]
    },
    {
      "cell_type": "code",
      "execution_count": 7,
      "metadata": {
        "colab": {
          "base_uri": "https://localhost:8080/",
          "height": 0
        },
        "id": "i-WTJHTgaGqR",
        "outputId": "86ce2ee3-704c-45e8-ff6b-2b43168b2264"
      },
      "outputs": [
        {
          "name": "stdout",
          "output_type": "stream",
          "text": [
            "   X1  X2  Y\n",
            "0   1   2  0\n",
            "1   4   5  0\n",
            "2   7   8  0\n",
            "3   2   2  1\n",
            "4   6   5  0\n",
            "5   9   8  0\n",
            "6   2   2  1\n",
            "7   4   5  0\n",
            "8   7   8  0\n",
            "9  10  14  1\n"
          ]
        }
      ],
      "source": [
        "import pandas as pd\n",
        "df = pd.DataFrame(data=M)\n",
        "df = df.rename(columns={0: 'X1', 1: 'X2', 2:'Y'})\n",
        "print(df)"
      ]
    },
    {
      "cell_type": "markdown",
      "metadata": {
        "id": "3ro9MsmJbyrq"
      },
      "source": [
        "## *Question 4*\n",
        "Plot X1 and X2 using scatter plot. Color (X1,X2) red if corresponding Y is 1 else blue."
      ]
    },
    {
      "cell_type": "code",
      "execution_count": 8,
      "metadata": {
        "colab": {
          "base_uri": "https://localhost:8080/",
          "height": 279
        },
        "id": "DI5WhuVTb29C",
        "outputId": "351082cc-d11b-4353-f33b-23996d2da4a0"
      },
      "outputs": [
        {
          "data": {
            "image/png": "[encoded data removed]",
            "text/plain": [
              "<Figure size 432x288 with 1 Axes>"
            ]
          },
          "metadata": {
            "needs_background": "light"
          },
          "output_type": "display_data"
        }
      ],
      "source": [
        "import matplotlib.pyplot as plt\n",
        "\n",
        "col = df.Y.map({0:'b', 1:'r'})\n",
        "df.plot.scatter(x='X1', y='X2', c=col)\n",
        "plt.show()"
      ]
    },
    {
      "cell_type": "markdown",
      "metadata": {
        "id": "l2ZyFn-UjMwq"
      },
      "source": [
        "## *Question 5*"
      ]
    },
    {
      "cell_type": "code",
      "execution_count": 9,
      "metadata": {
        "colab": {
          "base_uri": "https://localhost:8080/",
          "height": 0
        },
        "id": "WeQPihJYjL0l",
        "outputId": "2a7d31c0-8328-4b48-88a7-6fb97ae7f1c0"
      },
      "outputs": [
        {
          "name": "stdout",
          "output_type": "stream",
          "text": [
            "[[ 1]\n",
            " [ 1]\n",
            " [ 1]\n",
            " [ 0]\n",
            " [ 1]\n",
            " [ 1]\n",
            " [ 0]\n",
            " [ 1]\n",
            " [ 1]\n",
            " [16]]\n"
          ]
        }
      ],
      "source": [
        "error = M[:,0] - M[:,1]\n",
        "error = np.square(error)\n",
        "print(error)"
      ]
    },
    {
      "cell_type": "code",
      "execution_count": 10,
      "metadata": {
        "colab": {
          "base_uri": "https://localhost:8080/",
          "height": 0
        },
        "id": "a1hXiqEBmXbx",
        "outputId": "76773693-cff0-4e2b-842f-00bbbdf3f3d5"
      },
      "outputs": [
        {
          "data": {
            "text/plain": [
              "23"
            ]
          },
          "execution_count": 10,
          "metadata": {},
          "output_type": "execute_result"
        }
      ],
      "source": [
        "np.sum(error)"
      ]
    },
    {
      "cell_type": "markdown",
      "metadata": {
        "id": "8Q5CED61moAi"
      },
      "source": [
        "## *Question 6*\n",
        "Find euclidean distance between first two rows of matrix M.\n",
        "Compare result with inbuilt function numpy.linalg.norm(a-b) where a is first row and b is\n",
        "second row."
      ]
    },
    {
      "cell_type": "code",
      "execution_count": 11,
      "metadata": {
        "colab": {
          "base_uri": "https://localhost:8080/",
          "height": 0
        },
        "id": "GPvqjjYvmsG9",
        "outputId": "c149fbca-34d5-42f5-e327-14d776518c0a"
      },
      "outputs": [
        {
          "name": "stdout",
          "output_type": "stream",
          "text": [
            "4.242640687119285\n"
          ]
        }
      ],
      "source": [
        "print(np.linalg.norm(M[0]-M[1]))"
      ]
    },
    {
      "cell_type": "markdown",
      "metadata": {
        "id": "VJeF57HZEhid"
      },
      "source": [
        "## *Question 7*\n",
        "Create a vector V with two random values.\n",
        "Find the Euclidean distance between each row of M with V.\n",
        "Store the distance in a vector and print"
      ]
    },
    {
      "cell_type": "code",
      "execution_count": 12,
      "metadata": {
        "colab": {
          "base_uri": "https://localhost:8080/",
          "height": 0
        },
        "id": "ZU9byxAxEmfR",
        "outputId": "224d7a3a-14d1-448f-e07f-633d015aa227"
      },
      "outputs": [
        {
          "name": "stdout",
          "output_type": "stream",
          "text": [
            "[ 1.34812976  5.39209546  9.60895067  1.86166121  6.81938978 11.03455103\n",
            "  1.86166121  5.39209546  9.60895067 16.17516534]\n"
          ]
        }
      ],
      "source": [
        "V = np.random.rand(3)\n",
        "\n",
        "Output = []\n",
        "for i in range(0,M.shape[0]):\n",
        "  Output.append(np.linalg.norm(M[i]-V))\n",
        "\n",
        "Output = np.array(Output)\n",
        "print(Output)"
      ]
    },
    {
      "cell_type": "markdown",
      "metadata": {
        "id": "AuWejFgpJd1R"
      },
      "source": [
        "## *Question 8*\n"
      ]
    },
    {
      "cell_type": "code",
      "execution_count": 13,
      "metadata": {
        "colab": {
          "base_uri": "https://localhost:8080/",
          "height": 0
        },
        "id": "rQBbq1E6JkzJ",
        "outputId": "3530d29e-7118-44db-eafd-3d4e1d113086"
      },
      "outputs": [
        {
          "name": "stdout",
          "output_type": "stream",
          "text": [
            "[[ 1.  2.  1.]\n",
            " [ 4.  5.  1.]\n",
            " [ 7.  8.  1.]\n",
            " [ 2.  2.  1.]\n",
            " [ 6.  5.  1.]\n",
            " [ 9.  8.  1.]\n",
            " [ 2.  2.  1.]\n",
            " [ 4.  5.  1.]\n",
            " [ 7.  8.  1.]\n",
            " [10. 14.  1.]\n",
            " [ 1.  1.  1.]]\n"
          ]
        }
      ],
      "source": [
        "M = np.matrix('1 2 ; 4 5 ; 7 8 ; 2 2 ; 6 5 ; 9 8 ; 2 2 ; 4 5 ; 7 8 ; 10 14 ')\n",
        "new_column = np.array((2,3))\n",
        "M = np.column_stack((M, np.ones(10)))\n",
        "\n",
        "M = np.vstack((M, np.ones(3)))\n",
        "\n",
        "print(M)"
      ]
    },
    {
      "cell_type": "markdown",
      "metadata": {
        "id": "Z0UBM1euVQ8_"
      },
      "source": [
        "## *Question 9*\n",
        "Create a matrix M’ with two columns X1’, X2’ and populate with random values.\n",
        "Find the Euclidean distance between each row of M’ with each row of M\n",
        "Store the distance in a matrix Dist with 3 columns. First column is the row id of M, second\n",
        "column is the row id of M’, and the third column is distance value"
      ]
    },
    {
      "cell_type": "code",
      "execution_count": 37,
      "metadata": {
        "colab": {
          "base_uri": "https://localhost:8080/",
          "height": 0
        },
        "id": "9ju-8QjSR5dG",
        "outputId": "4c24d1d9-f332-4688-8669-afadecd94f64"
      },
      "outputs": [
        {
          "name": "stdout",
          "output_type": "stream",
          "text": [
            "[[ 54.91812087  47.85394446  63.63175308  70.76722405  72.56031973\n",
            "   99.32270637  23.          41.43669871  18.38477631  25.61249695]\n",
            " [ 56.43580424  55.47071299  75.16648189  84.50443775  67.72001181\n",
            "  110.88733021  30.23243292  58.54912467  15.5241747   41.14608122]\n",
            " [ 27.01851217  45.607017    62.29767251  78.44743463  15.\n",
            "   80.50465825  58.5918083   96.87620967  63.56099433  75.43208866]\n",
            " [ 25.96150997  34.17601498  42.43819035  57.70615219  36.67424164\n",
            "   56.22277119  56.08029957  85.23496935  66.75327707  67.06713055]\n",
            " [  5.09901951  16.1245155   37.          53.08483776  32.01562119\n",
            "   64.84597135  32.38826948  67.2086304   42.75511665  46.32493929]\n",
            " [ 33.61547263  36.05551275  37.53664876  51.4003891   47.42362281\n",
            "   46.01086828  60.40695324  84.17244205  72.80109889  68.24954212]\n",
            " [  8.94427191  21.21320344  38.63935817  54.91812087  30.01666204\n",
            "   62.96824597  39.45883931  73.10950691  49.49747468  52.83937925]\n",
            " [ 20.39607805  26.41968963  50.56678752  64.56004957  36.40054945\n",
            "   83.60023923  17.80449381  61.7170965   21.02379604  38.47076812]\n",
            " [ 32.57299495  37.64306045  61.05735009  73.92563831  43.08131846\n",
            "   95.13148795  20.          63.3245608   12.20655562  40.60788101]\n",
            " [ 13.03840481  20.88061302  45.22167622  60.01666435  33.30165161\n",
            "   77.1038261   21.09502311  62.68173578  28.0713377   39.8246155 ]]\n",
            "[[ 1.  1.]\n",
            " [ 2.  2.]\n",
            " [ 3.  3.]\n",
            " [ 4.  4.]\n",
            " [ 5.  5.]\n",
            " [ 6.  6.]\n",
            " [ 7.  7.]\n",
            " [ 8.  8.]\n",
            " [ 9.  9.]\n",
            " [10. 10.]]\n",
            "[[  1.           1.          54.91812087  47.85394446  63.63175308\n",
            "   70.76722405  72.56031973  99.32270637  23.          41.43669871\n",
            "   18.38477631  25.61249695]\n",
            " [  2.           2.          56.43580424  55.47071299  75.16648189\n",
            "   84.50443775  67.72001181 110.88733021  30.23243292  58.54912467\n",
            "   15.5241747   41.14608122]\n",
            " [  3.           3.          27.01851217  45.607017    62.29767251\n",
            "   78.44743463  15.          80.50465825  58.5918083   96.87620967\n",
            "   63.56099433  75.43208866]\n",
            " [  4.           4.          25.96150997  34.17601498  42.43819035\n",
            "   57.70615219  36.67424164  56.22277119  56.08029957  85.23496935\n",
            "   66.75327707  67.06713055]\n",
            " [  5.           5.           5.09901951  16.1245155   37.\n",
            "   53.08483776  32.01562119  64.84597135  32.38826948  67.2086304\n",
            "   42.75511665  46.32493929]\n",
            " [  6.           6.          33.61547263  36.05551275  37.53664876\n",
            "   51.4003891   47.42362281  46.01086828  60.40695324  84.17244205\n",
            "   72.80109889  68.24954212]\n",
            " [  7.           7.           8.94427191  21.21320344  38.63935817\n",
            "   54.91812087  30.01666204  62.96824597  39.45883931  73.10950691\n",
            "   49.49747468  52.83937925]\n",
            " [  8.           8.          20.39607805  26.41968963  50.56678752\n",
            "   64.56004957  36.40054945  83.60023923  17.80449381  61.7170965\n",
            "   21.02379604  38.47076812]\n",
            " [  9.           9.          32.57299495  37.64306045  61.05735009\n",
            "   73.92563831  43.08131846  95.13148795  20.          63.3245608\n",
            "   12.20655562  40.60788101]\n",
            " [ 10.          10.          13.03840481  20.88061302  45.22167622\n",
            "   60.01666435  33.30165161  77.1038261   21.09502311  62.68173578\n",
            "   28.0713377   39.8246155 ]]\n",
            "both are equal\n"
          ]
        }
      ],
      "source": [
        "import numpy as np\n",
        "import random\n",
        "\n",
        "m1=np. empty((10,2))\n",
        "for i in range(len(m1)):\n",
        "  for j in range(len(m1[i])):\n",
        "    m1[i][j]=random.randint (0,100)\n",
        "\n",
        "m2=np. empty((10,2))\n",
        "for i in range(len(m2)):\n",
        "  for j in range(len(m2[i])):\n",
        "    m2[i][j]=random.randint (0,100)\n",
        "\n",
        "d=np.empty((10,10))\n",
        "for i in range(len(m1)):\n",
        "  for j in range(len(m2)):\n",
        "    d[i][j]=np.sqrt((np.square(m1[i][0]-m2[j][0]))+(np.square(m1[i][1]-m2[j][1])))\n",
        "print(d)\n",
        "dist=np.empty((10,2))\n",
        "for i in range(0,10):\n",
        "  dist[i][0]=(i+1) \n",
        "  dist[i][1]=(i+1)\n",
        "print(dist)\n",
        "dist=np.column_stack((dist,d))\n",
        "print (dist)\n",
        "from sklearn.metrics.pairwise import euclidean_distances\n",
        "if euclidean_distances(m1,m2).all() == d.all():\n",
        "  print('both are equal')\n",
        "else: \n",
        "  print('both are not equal')"
      ]
    },
    {
      "cell_type": "markdown",
      "metadata": {
        "id": "ENu8sgtyN5QU"
      },
      "source": [
        "## *Question 10*\n",
        "Sort Dist matrix based on last column"
      ]
    },
    {
      "cell_type": "code",
      "execution_count": 38,
      "metadata": {
        "colab": {
          "base_uri": "https://localhost:8080/",
          "height": 0
        },
        "id": "ZqwlqSBuVaL_",
        "outputId": "025907b4-6a03-40ff-b4aa-daaec5d01108"
      },
      "outputs": [
        {
          "name": "stdout",
          "output_type": "stream",
          "text": [
            "[[  1.           1.          54.91812087  47.85394446  63.63175308\n",
            "   70.76722405  72.56031973  99.32270637  23.          41.43669871\n",
            "   18.38477631  25.61249695]\n",
            " [  8.           8.          20.39607805  26.41968963  50.56678752\n",
            "   64.56004957  36.40054945  83.60023923  17.80449381  61.7170965\n",
            "   21.02379604  38.47076812]\n",
            " [ 10.          10.          13.03840481  20.88061302  45.22167622\n",
            "   60.01666435  33.30165161  77.1038261   21.09502311  62.68173578\n",
            "   28.0713377   39.8246155 ]\n",
            " [  9.           9.          32.57299495  37.64306045  61.05735009\n",
            "   73.92563831  43.08131846  95.13148795  20.          63.3245608\n",
            "   12.20655562  40.60788101]\n",
            " [  2.           2.          56.43580424  55.47071299  75.16648189\n",
            "   84.50443775  67.72001181 110.88733021  30.23243292  58.54912467\n",
            "   15.5241747   41.14608122]\n",
            " [  5.           5.           5.09901951  16.1245155   37.\n",
            "   53.08483776  32.01562119  64.84597135  32.38826948  67.2086304\n",
            "   42.75511665  46.32493929]\n",
            " [  7.           7.           8.94427191  21.21320344  38.63935817\n",
            "   54.91812087  30.01666204  62.96824597  39.45883931  73.10950691\n",
            "   49.49747468  52.83937925]\n",
            " [  4.           4.          25.96150997  34.17601498  42.43819035\n",
            "   57.70615219  36.67424164  56.22277119  56.08029957  85.23496935\n",
            "   66.75327707  67.06713055]\n",
            " [  6.           6.          33.61547263  36.05551275  37.53664876\n",
            "   51.4003891   47.42362281  46.01086828  60.40695324  84.17244205\n",
            "   72.80109889  68.24954212]\n",
            " [  3.           3.          27.01851217  45.607017    62.29767251\n",
            "   78.44743463  15.          80.50465825  58.5918083   96.87620967\n",
            "   63.56099433  75.43208866]]\n"
          ]
        }
      ],
      "source": [
        "sort = dist[dist[:,11].argsort()]\n",
        "print(sort)"
      ]
    },
    {
      "cell_type": "markdown",
      "metadata": {
        "id": "ZLgcWPoMVsNa"
      },
      "source": [
        "## *Question 11*\n",
        "Get initial k rows from sorted matrix"
      ]
    },
    {
      "cell_type": "code",
      "execution_count": 39,
      "metadata": {
        "colab": {
          "base_uri": "https://localhost:8080/",
          "height": 0
        },
        "id": "6dbP2nAsVzIj",
        "outputId": "d8742b67-88d5-4ec2-b644-f68c6d0f9ff3"
      },
      "outputs": [
        {
          "name": "stdout",
          "output_type": "stream",
          "text": [
            "1.0 1.0 54.91812087098393 47.853944456021594 63.631753079732135 70.76722405181653 72.56031973468694 99.32270636667126 23.0 41.43669871020132 18.384776310850235 25.612496949731394 \n",
            "8.0 8.0 20.396078054371138 26.419689627245813 50.566787519082126 64.5600495662759 36.40054944640259 83.60023923410746 17.804493814764857 61.71709649683789 21.02379604162864 38.47076812334269 \n",
            "10.0 10.0 13.038404810405298 20.8806130178211 45.221676218380054 60.01666435249463 33.301651610693426 77.10382610480494 21.095023109728988 62.68173577685928 28.071337695236398 39.824615503479755 \n"
          ]
        }
      ],
      "source": [
        "k=3\n",
        "for i in range(0,k):\n",
        "  for j in range(len(sort [i])):\n",
        "    print (sort[i][j], end=\" \")\n",
        "  print(\"\")"
      ]
    },
    {
      "cell_type": "markdown",
      "metadata": {
        "id": "u3GAbHOgWWyV"
      },
      "source": [
        "## *Question 12*\n",
        "Find the number of 1s and number of 0s in k rows found above. Print 1 if the number of 1s\n",
        "are more else print 0."
      ]
    },
    {
      "cell_type": "code",
      "execution_count": 42,
      "metadata": {
        "colab": {
          "base_uri": "https://localhost:8080/",
          "height": 0
        },
        "id": "n831JOyIWa18",
        "outputId": "b872ef96-798c-4574-958f-ad02eafc9760"
      },
      "outputs": [
        {
          "name": "stdout",
          "output_type": "stream",
          "text": [
            "0\n"
          ]
        }
      ],
      "source": [
        "import re \n",
        "c1=0\n",
        "c2=0\n",
        "for i in range (0,3):\n",
        "  for j in range(len(sort[i])):\n",
        "    res = list(map(int,re.findall('\\d',str(sort[i][j]))))\n",
        "    for k in res:\n",
        "      if k == 1:\n",
        "        c1=c1+1\n",
        "      elif k == 0:\n",
        "        c2=c2+1\n",
        "\n",
        "if c1 > c2:\n",
        "  print('1')\n",
        "elif c1 < c2:\n",
        "  print('0')"
      ]
    },
    {
      "cell_type": "markdown",
      "metadata": {
        "id": "G9JiIGZ0XbVP"
      },
      "source": [
        "# PART-B"
      ]
    },
    {
      "cell_type": "markdown",
      "metadata": {
        "id": "aNhQX3BtXeoX"
      },
      "source": [
        "Load diabetes dataset as done in Lab 1."
      ]
    },
    {
      "cell_type": "code",
      "execution_count": 44,
      "metadata": {
        "colab": {
          "base_uri": "https://localhost:8080/",
          "height": 0
        },
        "id": "Z9buVQNhXhAU",
        "outputId": "c2bd53b8-5943-4daa-c501-65b779c9aa1f"
      },
      "outputs": [
        {
          "data": {
            "text/plain": [
              "(768, 9)"
            ]
          },
          "execution_count": 44,
          "metadata": {},
          "output_type": "execute_result"
        }
      ],
      "source": [
        "from pandas import read_csv\n",
        "\n",
        "data = read_csv('diabetes.csv')\n",
        "data.shape"
      ]
    },
    {
      "cell_type": "markdown",
      "metadata": {
        "id": "sfg-N7UlmMxq"
      },
      "source": [
        "Peek at few rows as done in Lab 1"
      ]
    },
    {
      "cell_type": "code",
      "execution_count": 45,
      "metadata": {
        "colab": {
          "base_uri": "https://localhost:8080/",
          "height": 270
        },
        "id": "VNbitzYgddP4",
        "outputId": "e138b827-f5a1-4aea-d45b-7988b3567363"
      },
      "outputs": [
        {
          "data": {
            "text/html": [
              "\n",
              "  <div id=\"df-e461aea4-e417-4ab8-8493-37301c4c7a87\">\n",
              "    <div class=\"colab-df-container\">\n",
              "      <div>\n",
              "<style scoped>\n",
              "    .dataframe tbody tr th:only-of-type {\n",
              "        vertical-align: middle;\n",
              "    }\n",
              "\n",
              "    .dataframe tbody tr th {\n",
              "        vertical-align: top;\n",
              "    }\n",
              "\n",
              "    .dataframe thead th {\n",
              "        text-align: right;\n",
              "    }\n",
              "</style>\n",
              "<table border=\"1\" class=\"dataframe\">\n",
              "  <thead>\n",
              "    <tr style=\"text-align: right;\">\n",
              "      <th></th>\n",
              "      <th>Pregnancies</th>\n",
              "      <th>Glucose</th>\n",
              "      <th>BloodPressure</th>\n",
              "      <th>SkinThickness</th>\n",
              "      <th>Insulin</th>\n",
              "      <th>BMI</th>\n",
              "      <th>DiabetesPedigreeFunction</th>\n",
              "      <th>Age</th>\n",
              "      <th>Outcome</th>\n",
              "    </tr>\n",
              "  </thead>\n",
              "  <tbody>\n",
              "    <tr>\n",
              "      <th>0</th>\n",
              "      <td>6</td>\n",
              "      <td>148</td>\n",
              "      <td>72</td>\n",
              "      <td>35</td>\n",
              "      <td>0</td>\n",
              "      <td>33.6</td>\n",
              "      <td>0.627</td>\n",
              "      <td>50</td>\n",
              "      <td>1</td>\n",
              "    </tr>\n",
              "    <tr>\n",
              "      <th>1</th>\n",
              "      <td>1</td>\n",
              "      <td>85</td>\n",
              "      <td>66</td>\n",
              "      <td>29</td>\n",
              "      <td>0</td>\n",
              "      <td>26.6</td>\n",
              "      <td>0.351</td>\n",
              "      <td>31</td>\n",
              "      <td>0</td>\n",
              "    </tr>\n",
              "    <tr>\n",
              "      <th>2</th>\n",
              "      <td>8</td>\n",
              "      <td>183</td>\n",
              "      <td>64</td>\n",
              "      <td>0</td>\n",
              "      <td>0</td>\n",
              "      <td>23.3</td>\n",
              "      <td>0.672</td>\n",
              "      <td>32</td>\n",
              "      <td>1</td>\n",
              "    </tr>\n",
              "    <tr>\n",
              "      <th>3</th>\n",
              "      <td>1</td>\n",
              "      <td>89</td>\n",
              "      <td>66</td>\n",
              "      <td>23</td>\n",
              "      <td>94</td>\n",
              "      <td>28.1</td>\n",
              "      <td>0.167</td>\n",
              "      <td>21</td>\n",
              "      <td>0</td>\n",
              "    </tr>\n",
              "    <tr>\n",
              "      <th>4</th>\n",
              "      <td>0</td>\n",
              "      <td>137</td>\n",
              "      <td>40</td>\n",
              "      <td>35</td>\n",
              "      <td>168</td>\n",
              "      <td>43.1</td>\n",
              "      <td>2.288</td>\n",
              "      <td>33</td>\n",
              "      <td>1</td>\n",
              "    </tr>\n",
              "  </tbody>\n",
              "</table>\n",
              "</div>\n",
              "      <button class=\"colab-df-convert\" onclick=\"convertToInteractive('df-e461aea4-e417-4ab8-8493-37301c4c7a87')\"\n",
              "              title=\"Convert this dataframe to an interactive table.\"\n",
              "              style=\"display:none;\">\n",
              "        \n",
              "  <svg xmlns=\"http://www.w3.org/2000/svg\" height=\"24px\"viewBox=\"0 0 24 24\"\n",
              "       width=\"24px\">\n",
              "    <path d=\"M0 0h24v24H0V0z\" fill=\"none\"/>\n",
              "    <path d=\"M18.56 5.44l.94 2.06.94-2.06 2.06-.94-2.06-.94-.94-2.06-.94 2.06-2.06.94zm-11 1L8.5 8.5l.94-2.06 2.06-.94-2.06-.94L8.5 2.5l-.94 2.06-2.06.94zm10 10l.94 2.06.94-2.06 2.06-.94-2.06-.94-.94-2.06-.94 2.06-2.06.94z\"/><path d=\"M17.41 7.96l-1.37-1.37c-.4-.4-.92-.59-1.43-.59-.52 0-1.04.2-1.43.59L10.3 9.45l-7.72 7.72c-.78.78-.78 2.05 0 2.83L4 21.41c.39.39.9.59 1.41.59.51 0 1.02-.2 1.41-.59l7.78-7.78 2.81-2.81c.8-.78.8-2.07 0-2.86zM5.41 20L4 18.59l7.72-7.72 1.47 1.35L5.41 20z\"/>\n",
              "  </svg>\n",
              "      </button>\n",
              "      \n",
              "  <style>\n",
              "    .colab-df-container {\n",
              "      display:flex;\n",
              "      flex-wrap:wrap;\n",
              "      gap: 12px;\n",
              "    }\n",
              "\n",
              "    .colab-df-convert {\n",
              "      background-color: #E8F0FE;\n",
              "      border: none;\n",
              "      border-radius: 50%;\n",
              "      cursor: pointer;\n",
              "      display: none;\n",
              "      fill: #1967D2;\n",
              "      height: 32px;\n",
              "      padding: 0 0 0 0;\n",
              "      width: 32px;\n",
              "    }\n",
              "\n",
              "    .colab-df-convert:hover {\n",
              "      background-color: #E2EBFA;\n",
              "      box-shadow: 0px 1px 2px rgba(60, 64, 67, 0.3), 0px 1px 3px 1px rgba(60, 64, 67, 0.15);\n",
              "      fill: #174EA6;\n",
              "    }\n",
              "\n",
              "    [theme=dark] .colab-df-convert {\n",
              "      background-color: #3B4455;\n",
              "      fill: #D2E3FC;\n",
              "    }\n",
              "\n",
              "    [theme=dark] .colab-df-convert:hover {\n",
              "      background-color: #434B5C;\n",
              "      box-shadow: 0px 1px 3px 1px rgba(0, 0, 0, 0.15);\n",
              "      filter: drop-shadow(0px 1px 2px rgba(0, 0, 0, 0.3));\n",
              "      fill: #FFFFFF;\n",
              "    }\n",
              "  </style>\n",
              "\n",
              "      <script>\n",
              "        const buttonEl =\n",
              "          document.querySelector('#df-e461aea4-e417-4ab8-8493-37301c4c7a87 button.colab-df-convert');\n",
              "        buttonEl.style.display =\n",
              "          google.colab.kernel.accessAllowed ? 'block' : 'none';\n",
              "\n",
              "        async function convertToInteractive(key) {\n",
              "          const element = document.querySelector('#df-e461aea4-e417-4ab8-8493-37301c4c7a87');\n",
              "          const dataTable =\n",
              "            await google.colab.kernel.invokeFunction('convertToInteractive',\n",
              "                                                     [key], {});\n",
              "          if (!dataTable) return;\n",
              "\n",
              "          const docLinkHtml = 'Like what you see? Visit the ' +\n",
              "            '<a target=\"_blank\" href=https://colab.research.google.com/notebooks/data_table.ipynb>data table notebook</a>'\n",
              "            + ' to learn more about interactive tables.';\n",
              "          element.innerHTML = '';\n",
              "          dataTable['output_type'] = 'display_data';\n",
              "          await google.colab.output.renderOutput(dataTable, element);\n",
              "          const docLink = document.createElement('div');\n",
              "          docLink.innerHTML = docLinkHtml;\n",
              "          element.appendChild(docLink);\n",
              "        }\n",
              "      </script>\n",
              "    </div>\n",
              "  </div>\n",
              "  "
            ],
            "text/plain": [
              "   Pregnancies  Glucose  BloodPressure  SkinThickness  Insulin   BMI  \\\n",
              "0            6      148             72             35        0  33.6   \n",
              "1            1       85             66             29        0  26.6   \n",
              "2            8      183             64              0        0  23.3   \n",
              "3            1       89             66             23       94  28.1   \n",
              "4            0      137             40             35      168  43.1   \n",
              "\n",
              "   DiabetesPedigreeFunction  Age  Outcome  \n",
              "0                     0.627   50        1  \n",
              "1                     0.351   31        0  \n",
              "2                     0.672   32        1  \n",
              "3                     0.167   21        0  \n",
              "4                     2.288   33        1  "
            ]
          },
          "execution_count": 45,
          "metadata": {},
          "output_type": "execute_result"
        }
      ],
      "source": [
        "data.head(5)"
      ]
    },
    {
      "cell_type": "markdown",
      "metadata": {
        "id": "awo-H7u3mP_k"
      },
      "source": [
        "Split the dataset into 80% training and 20% testing using numpy slicing."
      ]
    },
    {
      "cell_type": "code",
      "execution_count": 47,
      "metadata": {
        "id": "LIqhxsAudygm"
      },
      "outputs": [],
      "source": [
        "arr = data.values\n",
        "x = arr[:,0:8]\n",
        "y = arr[:,8]\n",
        "split = int(0.8*len(arr))\n",
        "\n",
        "x_train, x_test, y_train, y_test = x[:split], x[split:],y[:split], y[split:]"
      ]
    },
    {
      "cell_type": "markdown",
      "metadata": {
        "id": "GBe8RK1xmSdP"
      },
      "source": [
        "Use inbuilt function to do splitting and interpret result"
      ]
    },
    {
      "cell_type": "code",
      "execution_count": 46,
      "metadata": {
        "colab": {
          "base_uri": "https://localhost:8080/",
          "height": 0
        },
        "id": "qURXzbB5djQa",
        "outputId": "3383c64d-a9f7-418f-dac3-19fbda8676bb"
      },
      "outputs": [
        {
          "name": "stdout",
          "output_type": "stream",
          "text": [
            "[[3.00e+00 8.00e+01 0.00e+00 ... 0.00e+00 1.74e-01 2.20e+01]\n",
            " [1.00e+00 1.19e+02 8.80e+01 ... 4.53e+01 5.07e-01 2.60e+01]\n",
            " [3.00e+00 1.03e+02 7.20e+01 ... 2.76e+01 7.30e-01 2.70e+01]\n",
            " ...\n",
            " [1.00e+00 1.81e+02 6.40e+01 ... 3.41e+01 3.28e-01 3.80e+01]\n",
            " [0.00e+00 1.38e+02 0.00e+00 ... 3.63e+01 9.33e-01 2.50e+01]\n",
            " [4.00e+00 9.00e+01 0.00e+00 ... 2.80e+01 6.10e-01 3.10e+01]]\n"
          ]
        }
      ],
      "source": [
        "from sklearn.model_selection import train_test_split\n",
        "arr=data.values\n",
        "X=arr[:,0:8]\n",
        "Y=arr[:,8]\n",
        "X_train, X_test, y_train, y_test = train_test_split(X, Y,\n",
        "test_size=0.20)\n",
        "print( X_test)"
      ]
    },
    {
      "cell_type": "markdown",
      "metadata": {
        "id": "Zm9ATp_JmUoL"
      },
      "source": [
        "Do normalization of training as well as testing dataset using StandardScaler as done\n",
        "in Lab 1 Is it required to execute the following code for X_test too?"
      ]
    },
    {
      "cell_type": "code",
      "execution_count": 50,
      "metadata": {
        "colab": {
          "base_uri": "https://localhost:8080/",
          "height": 0
        },
        "id": "_M-7foD0iNPk",
        "outputId": "78b05c8d-4f55-48cc-a59a-93df230fcc65"
      },
      "outputs": [
        {
          "name": "stdout",
          "output_type": "stream",
          "text": [
            "TRAINING\n",
            "[[ 0.616 -0.298 -0.204  1.169 -0.668  0.283 -0.634 -0.787]\n",
            " [-1.14   2.134  1.748  0.299 -0.668  0.296 -0.1    0.643]]\n",
            "[[  6.    111.     64.     39.      0.     34.2     0.26   24.   ]\n",
            " [  0.    189.    104.     25.      0.     34.3     0.435  41.   ]]\n",
            "TESTING\n",
            "[[-1.14   1.854  1.065  0.362  0.109  0.572 -0.469  0.138]\n",
            " [ 0.03   1.043 -0.302  0.672  1.782  0.107 -0.704 -0.871]]\n",
            "[[0.00e+00 1.80e+02 9.00e+01 2.60e+01 9.00e+01 3.65e+01 3.14e-01 3.50e+01]\n",
            " [4.00e+00 1.54e+02 6.20e+01 3.10e+01 2.84e+02 3.28e+01 2.37e-01 2.30e+01]]\n"
          ]
        }
      ],
      "source": [
        "from sklearn.preprocessing import StandardScaler \n",
        "import pandas \n",
        "import numpy \n",
        "arr=data.values \n",
        "x=arr[:,0:8]\n",
        "y=arr[:,8]\n",
        "x_train,x_test, y_train, y_test=train_test_split(x,y,test_size=0.20)\n",
        "scaler=StandardScaler().fit(x_train)\n",
        "rescaled=scaler.transform(x_train)\n",
        "numpy.set_printoptions(precision=3)\n",
        "print ('TRAINING')\n",
        "print(rescaled[0:2,:])\n",
        "print(x_train[0:2,:])\n",
        "sc=StandardScaler ().fit(x_test)\n",
        "rescaled=scaler.transform(x_test)\n",
        "numpy.set_printoptions(precision=3)\n",
        "print ('TESTING')\n",
        "print(rescaled[0:2,:])\n",
        "print(x_test[0:2,:])"
      ]
    },
    {
      "cell_type": "markdown",
      "metadata": {
        "id": "-k5Nkz5LmWzx"
      },
      "source": [
        "Invoke inbuilt kNN function"
      ]
    },
    {
      "cell_type": "code",
      "execution_count": 53,
      "metadata": {
        "id": "ByE1GQR3jVRU"
      },
      "outputs": [],
      "source": [
        "from sklearn.neighbors import KNeighborsClassifier \n",
        "classifier=KNeighborsClassifier(n_neighbors=5)\n",
        "classifier.fit(x_train,y_train)\n",
        "y_pred=classifier.predict(x_test)\n"
      ]
    },
    {
      "cell_type": "markdown",
      "metadata": {
        "id": "bajA-OSHmY3t"
      },
      "source": [
        "Evaluate kNN"
      ]
    },
    {
      "cell_type": "code",
      "execution_count": 54,
      "metadata": {
        "colab": {
          "base_uri": "https://localhost:8080/",
          "height": 0
        },
        "id": "fx7dCNsfjh_s",
        "outputId": "a6429a0f-9404-4263-9d4a-e261fa0ceb5d"
      },
      "outputs": [
        {
          "name": "stdout",
          "output_type": "stream",
          "text": [
            "[[87 20]\n",
            " [17 30]]\n",
            "              precision    recall  f1-score   support\n",
            "\n",
            "         0.0       0.84      0.81      0.82       107\n",
            "         1.0       0.60      0.64      0.62        47\n",
            "\n",
            "    accuracy                           0.76       154\n",
            "   macro avg       0.72      0.73      0.72       154\n",
            "weighted avg       0.76      0.76      0.76       154\n",
            "\n"
          ]
        }
      ],
      "source": [
        "from sklearn.metrics import classification_report, confusion_matrix\n",
        "print(confusion_matrix(y_test, y_pred))\n",
        "print(classification_report(y_test, y_pred))"
      ]
    },
    {
      "cell_type": "markdown",
      "metadata": {
        "id": "E84-4dyQmb2K"
      },
      "source": [
        "Find the total number of correct predictions"
      ]
    },
    {
      "cell_type": "code",
      "execution_count": 64,
      "metadata": {
        "colab": {
          "base_uri": "https://localhost:8080/",
          "height": 0
        },
        "id": "yt9z5_QIjnbb",
        "outputId": "f6fc7216-09ca-4e22-c934-1383b89e3a5a"
      },
      "outputs": [
        {
          "name": "stdout",
          "output_type": "stream",
          "text": [
            "total number of correct prediction: 117\n"
          ]
        }
      ],
      "source": [
        "print('total number of correct prediction: '+ str(np.sum(y_pred==y_test)))"
      ]
    },
    {
      "cell_type": "markdown",
      "metadata": {
        "id": "u9_qsL8Qmeu0"
      },
      "source": [
        "Repeat f,g,h for different values of k in kNN. And plot the graph."
      ]
    },
    {
      "cell_type": "code",
      "execution_count": 68,
      "metadata": {
        "colab": {
          "base_uri": "https://localhost:8080/",
          "height": 1428
        },
        "id": "2erSR26Ak2Oh",
        "outputId": "f2cb8ece-e330-4171-aad8-76a4164fc154"
      },
      "outputs": [
        {
          "name": "stdout",
          "output_type": "stream",
          "text": [
            " K VALUE: 10\n",
            "[[95 12]\n",
            " [19 28]]\n",
            "              precision    recall  f1-score   support\n",
            "\n",
            "         0.0       0.83      0.89      0.86       107\n",
            "         1.0       0.70      0.60      0.64        47\n",
            "\n",
            "    accuracy                           0.80       154\n",
            "   macro avg       0.77      0.74      0.75       154\n",
            "weighted avg       0.79      0.80      0.79       154\n",
            "\n",
            "total number of correct prediction: 123\n",
            " K VALUE: 20\n",
            "[[95 12]\n",
            " [22 25]]\n",
            "              precision    recall  f1-score   support\n",
            "\n",
            "         0.0       0.81      0.89      0.85       107\n",
            "         1.0       0.68      0.53      0.60        47\n",
            "\n",
            "    accuracy                           0.78       154\n",
            "   macro avg       0.74      0.71      0.72       154\n",
            "weighted avg       0.77      0.78      0.77       154\n",
            "\n",
            "total number of correct prediction: 120\n",
            " K VALUE: 30\n",
            "[[91 16]\n",
            " [19 28]]\n",
            "              precision    recall  f1-score   support\n",
            "\n",
            "         0.0       0.83      0.85      0.84       107\n",
            "         1.0       0.64      0.60      0.62        47\n",
            "\n",
            "    accuracy                           0.77       154\n",
            "   macro avg       0.73      0.72      0.73       154\n",
            "weighted avg       0.77      0.77      0.77       154\n",
            "\n",
            "total number of correct prediction: 119\n",
            " K VALUE: 40\n",
            "[[90 17]\n",
            " [22 25]]\n",
            "              precision    recall  f1-score   support\n",
            "\n",
            "         0.0       0.80      0.84      0.82       107\n",
            "         1.0       0.60      0.53      0.56        47\n",
            "\n",
            "    accuracy                           0.75       154\n",
            "   macro avg       0.70      0.69      0.69       154\n",
            "weighted avg       0.74      0.75      0.74       154\n",
            "\n",
            "total number of correct prediction: 115\n",
            " K VALUE: 50\n",
            "[[91 16]\n",
            " [23 24]]\n",
            "              precision    recall  f1-score   support\n",
            "\n",
            "         0.0       0.80      0.85      0.82       107\n",
            "         1.0       0.60      0.51      0.55        47\n",
            "\n",
            "    accuracy                           0.75       154\n",
            "   macro avg       0.70      0.68      0.69       154\n",
            "weighted avg       0.74      0.75      0.74       154\n",
            "\n",
            "total number of correct prediction: 115\n",
            "[123, 120, 119, 115, 115]\n",
            "[10, 20, 30, 40, 50]\n"
          ]
        },
        {
          "data": {
            "image/png": "[encoded data removed]",
            "text/plain": [
              "<Figure size 432x288 with 1 Axes>"
            ]
          },
          "metadata": {
            "needs_background": "light"
          },
          "output_type": "display_data"
        }
      ],
      "source": [
        "pred=[]\n",
        "k=0\n",
        "for i in range(0,5):\n",
        "  k=k+10\n",
        "  print(' K VALUE:',k)\n",
        "  from sklearn.neighbors import KNeighborsClassifier \n",
        "  classifier=KNeighborsClassifier(k)\n",
        "  classifier.fit(x_train,y_train)\n",
        "  y_pred=classifier.predict(x_test)\n",
        "  from sklearn.metrics import classification_report, confusion_matrix\n",
        "  print(confusion_matrix(y_test,y_pred))\n",
        "  print(classification_report (y_test,y_pred))\n",
        "  import numpy as np\n",
        "  pred.append(np.sum(y_pred==y_test))\n",
        "  print ('total number of correct prediction: ' + str(np.sum(y_pred==y_test)))\n",
        "print(pred)\n",
        "y=[10,20,30,40,50]\n",
        "print(y)\n",
        "import matplotlib.pyplot as plt \n",
        "plt.plot(y,pred)\n",
        "plt.xlabel('different values of K') \n",
        "plt.ylabel('accuracy of the modal')\n",
        "plt.title('Accuracy VS Different values of K')\n",
        "plt.show()"
      ]
    }
  ],
  "metadata": {
    "colab": {
      "collapsed_sections": [],
      "provenance": []
    },
    "kernelspec": {
      "display_name": "Python 3.10.6 64-bit",
      "language": "python",
      "name": "python3"
    },
    "language_info": {
      "name": "python",
      "version": "3.10.6"
    },
    "vscode": {
      "interpreter": {
        "hash": "916dbcbb3f70747c44a77c7bcd40155683ae19c65e1c03b4aa3499c5328201f1"
      }
    }
  },
  "nbformat": 4,
  "nbformat_minor": 0
}
